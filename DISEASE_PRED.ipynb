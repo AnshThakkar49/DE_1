{
 "cells": [
  {
   "cell_type": "code",
   "execution_count": 1,
   "id": "03427ad8-b375-4dac-aa89-9544773dff6b",
   "metadata": {},
   "outputs": [
    {
     "ename": "FileNotFoundError",
     "evalue": "[Errno 2] No such file or directory: 'Disease_symptom_and_patient_profile_dataset.csv'",
     "output_type": "error",
     "traceback": [
      "\u001b[1;31m---------------------------------------------------------------------------\u001b[0m",
      "\u001b[1;31mFileNotFoundError\u001b[0m                         Traceback (most recent call last)",
      "Cell \u001b[1;32mIn[1], line 7\u001b[0m\n\u001b[0;32m      4\u001b[0m \u001b[38;5;28;01mfrom\u001b[39;00m \u001b[38;5;21;01msklearn\u001b[39;00m\u001b[38;5;21;01m.\u001b[39;00m\u001b[38;5;21;01mensemble\u001b[39;00m \u001b[38;5;28;01mimport\u001b[39;00m RandomForestClassifier\n\u001b[0;32m      5\u001b[0m \u001b[38;5;28;01mfrom\u001b[39;00m \u001b[38;5;21;01msklearn\u001b[39;00m\u001b[38;5;21;01m.\u001b[39;00m\u001b[38;5;21;01mmetrics\u001b[39;00m \u001b[38;5;28;01mimport\u001b[39;00m accuracy_score\n\u001b[1;32m----> 7\u001b[0m df \u001b[38;5;241m=\u001b[39m pd\u001b[38;5;241m.\u001b[39mread_csv(\u001b[38;5;124m\"\u001b[39m\u001b[38;5;124mDisease_symptom_and_patient_profile_dataset.csv\u001b[39m\u001b[38;5;124m\"\u001b[39m)\n\u001b[0;32m      9\u001b[0m label_encoders \u001b[38;5;241m=\u001b[39m {}\n\u001b[0;32m     10\u001b[0m \u001b[38;5;28;01mfor\u001b[39;00m column \u001b[38;5;129;01min\u001b[39;00m df\u001b[38;5;241m.\u001b[39mcolumns:\n",
      "File \u001b[1;32mc:\\Users\\Ansh Thakkar\\anaconda3\\Lib\\site-packages\\pandas\\io\\parsers\\readers.py:1026\u001b[0m, in \u001b[0;36mread_csv\u001b[1;34m(filepath_or_buffer, sep, delimiter, header, names, index_col, usecols, dtype, engine, converters, true_values, false_values, skipinitialspace, skiprows, skipfooter, nrows, na_values, keep_default_na, na_filter, verbose, skip_blank_lines, parse_dates, infer_datetime_format, keep_date_col, date_parser, date_format, dayfirst, cache_dates, iterator, chunksize, compression, thousands, decimal, lineterminator, quotechar, quoting, doublequote, escapechar, comment, encoding, encoding_errors, dialect, on_bad_lines, delim_whitespace, low_memory, memory_map, float_precision, storage_options, dtype_backend)\u001b[0m\n\u001b[0;32m   1013\u001b[0m kwds_defaults \u001b[38;5;241m=\u001b[39m _refine_defaults_read(\n\u001b[0;32m   1014\u001b[0m     dialect,\n\u001b[0;32m   1015\u001b[0m     delimiter,\n\u001b[1;32m   (...)\u001b[0m\n\u001b[0;32m   1022\u001b[0m     dtype_backend\u001b[38;5;241m=\u001b[39mdtype_backend,\n\u001b[0;32m   1023\u001b[0m )\n\u001b[0;32m   1024\u001b[0m kwds\u001b[38;5;241m.\u001b[39mupdate(kwds_defaults)\n\u001b[1;32m-> 1026\u001b[0m \u001b[38;5;28;01mreturn\u001b[39;00m _read(filepath_or_buffer, kwds)\n",
      "File \u001b[1;32mc:\\Users\\Ansh Thakkar\\anaconda3\\Lib\\site-packages\\pandas\\io\\parsers\\readers.py:620\u001b[0m, in \u001b[0;36m_read\u001b[1;34m(filepath_or_buffer, kwds)\u001b[0m\n\u001b[0;32m    617\u001b[0m _validate_names(kwds\u001b[38;5;241m.\u001b[39mget(\u001b[38;5;124m\"\u001b[39m\u001b[38;5;124mnames\u001b[39m\u001b[38;5;124m\"\u001b[39m, \u001b[38;5;28;01mNone\u001b[39;00m))\n\u001b[0;32m    619\u001b[0m \u001b[38;5;66;03m# Create the parser.\u001b[39;00m\n\u001b[1;32m--> 620\u001b[0m parser \u001b[38;5;241m=\u001b[39m TextFileReader(filepath_or_buffer, \u001b[38;5;241m*\u001b[39m\u001b[38;5;241m*\u001b[39mkwds)\n\u001b[0;32m    622\u001b[0m \u001b[38;5;28;01mif\u001b[39;00m chunksize \u001b[38;5;129;01mor\u001b[39;00m iterator:\n\u001b[0;32m    623\u001b[0m     \u001b[38;5;28;01mreturn\u001b[39;00m parser\n",
      "File \u001b[1;32mc:\\Users\\Ansh Thakkar\\anaconda3\\Lib\\site-packages\\pandas\\io\\parsers\\readers.py:1620\u001b[0m, in \u001b[0;36mTextFileReader.__init__\u001b[1;34m(self, f, engine, **kwds)\u001b[0m\n\u001b[0;32m   1617\u001b[0m     \u001b[38;5;28mself\u001b[39m\u001b[38;5;241m.\u001b[39moptions[\u001b[38;5;124m\"\u001b[39m\u001b[38;5;124mhas_index_names\u001b[39m\u001b[38;5;124m\"\u001b[39m] \u001b[38;5;241m=\u001b[39m kwds[\u001b[38;5;124m\"\u001b[39m\u001b[38;5;124mhas_index_names\u001b[39m\u001b[38;5;124m\"\u001b[39m]\n\u001b[0;32m   1619\u001b[0m \u001b[38;5;28mself\u001b[39m\u001b[38;5;241m.\u001b[39mhandles: IOHandles \u001b[38;5;241m|\u001b[39m \u001b[38;5;28;01mNone\u001b[39;00m \u001b[38;5;241m=\u001b[39m \u001b[38;5;28;01mNone\u001b[39;00m\n\u001b[1;32m-> 1620\u001b[0m \u001b[38;5;28mself\u001b[39m\u001b[38;5;241m.\u001b[39m_engine \u001b[38;5;241m=\u001b[39m \u001b[38;5;28mself\u001b[39m\u001b[38;5;241m.\u001b[39m_make_engine(f, \u001b[38;5;28mself\u001b[39m\u001b[38;5;241m.\u001b[39mengine)\n",
      "File \u001b[1;32mc:\\Users\\Ansh Thakkar\\anaconda3\\Lib\\site-packages\\pandas\\io\\parsers\\readers.py:1880\u001b[0m, in \u001b[0;36mTextFileReader._make_engine\u001b[1;34m(self, f, engine)\u001b[0m\n\u001b[0;32m   1878\u001b[0m     \u001b[38;5;28;01mif\u001b[39;00m \u001b[38;5;124m\"\u001b[39m\u001b[38;5;124mb\u001b[39m\u001b[38;5;124m\"\u001b[39m \u001b[38;5;129;01mnot\u001b[39;00m \u001b[38;5;129;01min\u001b[39;00m mode:\n\u001b[0;32m   1879\u001b[0m         mode \u001b[38;5;241m+\u001b[39m\u001b[38;5;241m=\u001b[39m \u001b[38;5;124m\"\u001b[39m\u001b[38;5;124mb\u001b[39m\u001b[38;5;124m\"\u001b[39m\n\u001b[1;32m-> 1880\u001b[0m \u001b[38;5;28mself\u001b[39m\u001b[38;5;241m.\u001b[39mhandles \u001b[38;5;241m=\u001b[39m get_handle(\n\u001b[0;32m   1881\u001b[0m     f,\n\u001b[0;32m   1882\u001b[0m     mode,\n\u001b[0;32m   1883\u001b[0m     encoding\u001b[38;5;241m=\u001b[39m\u001b[38;5;28mself\u001b[39m\u001b[38;5;241m.\u001b[39moptions\u001b[38;5;241m.\u001b[39mget(\u001b[38;5;124m\"\u001b[39m\u001b[38;5;124mencoding\u001b[39m\u001b[38;5;124m\"\u001b[39m, \u001b[38;5;28;01mNone\u001b[39;00m),\n\u001b[0;32m   1884\u001b[0m     compression\u001b[38;5;241m=\u001b[39m\u001b[38;5;28mself\u001b[39m\u001b[38;5;241m.\u001b[39moptions\u001b[38;5;241m.\u001b[39mget(\u001b[38;5;124m\"\u001b[39m\u001b[38;5;124mcompression\u001b[39m\u001b[38;5;124m\"\u001b[39m, \u001b[38;5;28;01mNone\u001b[39;00m),\n\u001b[0;32m   1885\u001b[0m     memory_map\u001b[38;5;241m=\u001b[39m\u001b[38;5;28mself\u001b[39m\u001b[38;5;241m.\u001b[39moptions\u001b[38;5;241m.\u001b[39mget(\u001b[38;5;124m\"\u001b[39m\u001b[38;5;124mmemory_map\u001b[39m\u001b[38;5;124m\"\u001b[39m, \u001b[38;5;28;01mFalse\u001b[39;00m),\n\u001b[0;32m   1886\u001b[0m     is_text\u001b[38;5;241m=\u001b[39mis_text,\n\u001b[0;32m   1887\u001b[0m     errors\u001b[38;5;241m=\u001b[39m\u001b[38;5;28mself\u001b[39m\u001b[38;5;241m.\u001b[39moptions\u001b[38;5;241m.\u001b[39mget(\u001b[38;5;124m\"\u001b[39m\u001b[38;5;124mencoding_errors\u001b[39m\u001b[38;5;124m\"\u001b[39m, \u001b[38;5;124m\"\u001b[39m\u001b[38;5;124mstrict\u001b[39m\u001b[38;5;124m\"\u001b[39m),\n\u001b[0;32m   1888\u001b[0m     storage_options\u001b[38;5;241m=\u001b[39m\u001b[38;5;28mself\u001b[39m\u001b[38;5;241m.\u001b[39moptions\u001b[38;5;241m.\u001b[39mget(\u001b[38;5;124m\"\u001b[39m\u001b[38;5;124mstorage_options\u001b[39m\u001b[38;5;124m\"\u001b[39m, \u001b[38;5;28;01mNone\u001b[39;00m),\n\u001b[0;32m   1889\u001b[0m )\n\u001b[0;32m   1890\u001b[0m \u001b[38;5;28;01massert\u001b[39;00m \u001b[38;5;28mself\u001b[39m\u001b[38;5;241m.\u001b[39mhandles \u001b[38;5;129;01mis\u001b[39;00m \u001b[38;5;129;01mnot\u001b[39;00m \u001b[38;5;28;01mNone\u001b[39;00m\n\u001b[0;32m   1891\u001b[0m f \u001b[38;5;241m=\u001b[39m \u001b[38;5;28mself\u001b[39m\u001b[38;5;241m.\u001b[39mhandles\u001b[38;5;241m.\u001b[39mhandle\n",
      "File \u001b[1;32mc:\\Users\\Ansh Thakkar\\anaconda3\\Lib\\site-packages\\pandas\\io\\common.py:873\u001b[0m, in \u001b[0;36mget_handle\u001b[1;34m(path_or_buf, mode, encoding, compression, memory_map, is_text, errors, storage_options)\u001b[0m\n\u001b[0;32m    868\u001b[0m \u001b[38;5;28;01melif\u001b[39;00m \u001b[38;5;28misinstance\u001b[39m(handle, \u001b[38;5;28mstr\u001b[39m):\n\u001b[0;32m    869\u001b[0m     \u001b[38;5;66;03m# Check whether the filename is to be opened in binary mode.\u001b[39;00m\n\u001b[0;32m    870\u001b[0m     \u001b[38;5;66;03m# Binary mode does not support 'encoding' and 'newline'.\u001b[39;00m\n\u001b[0;32m    871\u001b[0m     \u001b[38;5;28;01mif\u001b[39;00m ioargs\u001b[38;5;241m.\u001b[39mencoding \u001b[38;5;129;01mand\u001b[39;00m \u001b[38;5;124m\"\u001b[39m\u001b[38;5;124mb\u001b[39m\u001b[38;5;124m\"\u001b[39m \u001b[38;5;129;01mnot\u001b[39;00m \u001b[38;5;129;01min\u001b[39;00m ioargs\u001b[38;5;241m.\u001b[39mmode:\n\u001b[0;32m    872\u001b[0m         \u001b[38;5;66;03m# Encoding\u001b[39;00m\n\u001b[1;32m--> 873\u001b[0m         handle \u001b[38;5;241m=\u001b[39m \u001b[38;5;28mopen\u001b[39m(\n\u001b[0;32m    874\u001b[0m             handle,\n\u001b[0;32m    875\u001b[0m             ioargs\u001b[38;5;241m.\u001b[39mmode,\n\u001b[0;32m    876\u001b[0m             encoding\u001b[38;5;241m=\u001b[39mioargs\u001b[38;5;241m.\u001b[39mencoding,\n\u001b[0;32m    877\u001b[0m             errors\u001b[38;5;241m=\u001b[39merrors,\n\u001b[0;32m    878\u001b[0m             newline\u001b[38;5;241m=\u001b[39m\u001b[38;5;124m\"\u001b[39m\u001b[38;5;124m\"\u001b[39m,\n\u001b[0;32m    879\u001b[0m         )\n\u001b[0;32m    880\u001b[0m     \u001b[38;5;28;01melse\u001b[39;00m:\n\u001b[0;32m    881\u001b[0m         \u001b[38;5;66;03m# Binary mode\u001b[39;00m\n\u001b[0;32m    882\u001b[0m         handle \u001b[38;5;241m=\u001b[39m \u001b[38;5;28mopen\u001b[39m(handle, ioargs\u001b[38;5;241m.\u001b[39mmode)\n",
      "\u001b[1;31mFileNotFoundError\u001b[0m: [Errno 2] No such file or directory: 'Disease_symptom_and_patient_profile_dataset.csv'"
     ]
    }
   ],
   "source": [
    "import pandas as pd\n",
    "from sklearn.model_selection import train_test_split\n",
    "from sklearn.preprocessing import LabelEncoder\n",
    "from sklearn.ensemble import RandomForestClassifier\n",
    "from sklearn.metrics import accuracy_score\n",
    "\n",
    "df = pd.read_csv(\"Disease_symptom_and_patient_profile_dataset.csv\")\n",
    "\n",
    "label_encoders = {}\n",
    "for column in df.columns:\n",
    "    if df[column].dtype == 'object':\n",
    "        le = LabelEncoder()\n",
    "        df[column] = le.fit_transform(df[column])\n",
    "        label_encoders[column] = le\n",
    "\n",
    "\n",
    "X = df.drop(columns=[\"Outcome Variable\"])\n",
    "y = df[\"Outcome Variable\"]\n",
    "\n",
    "X_train, X_test, y_train, y_test = train_test_split(X, y, test_size=0.2, random_state=42)\n",
    "\n",
    "model = RandomForestClassifier(n_estimators=100, random_state=42)\n",
    "model.fit(X_train, y_train)\n",
    "\n",
    "\n",
    "y_pred = model.predict(X_test)\n",
    "\n",
    "\n",
    "accuracy = accuracy_score(y_test, y_pred)\n",
    "print(f\"Model Accuracy: {accuracy * 100:.2f}%\")\n"
   ]
  },
  {
   "cell_type": "code",
   "execution_count": 5,
   "id": "5ce76f64-2a01-41d2-8390-a9e859622626",
   "metadata": {
    "scrolled": true
   },
   "outputs": [
    {
     "name": "stdout",
     "output_type": "stream",
     "text": [
      "Collecting xgboost\n",
      "  Downloading xgboost-3.0.0-py3-none-win_amd64.whl.metadata (2.1 kB)\n",
      "Requirement already satisfied: numpy in c:\\users\\admin\\anaconda3\\lib\\site-packages (from xgboost) (1.26.4)\n",
      "Requirement already satisfied: scipy in c:\\users\\admin\\anaconda3\\lib\\site-packages (from xgboost) (1.13.1)\n",
      "Downloading xgboost-3.0.0-py3-none-win_amd64.whl (150.0 MB)\n",
      "   ---------------------------------------- 0.0/150.0 MB ? eta -:--:--\n",
      "   ---------------------------------------- 0.5/150.0 MB 5.7 MB/s eta 0:00:27\n",
      "    --------------------------------------- 2.4/150.0 MB 7.9 MB/s eta 0:00:19\n",
      "    --------------------------------------- 3.7/150.0 MB 8.1 MB/s eta 0:00:19\n",
      "   - -------------------------------------- 5.0/150.0 MB 6.9 MB/s eta 0:00:22\n",
      "   - -------------------------------------- 6.0/150.0 MB 6.5 MB/s eta 0:00:23\n",
      "   -- ------------------------------------- 7.9/150.0 MB 6.7 MB/s eta 0:00:22\n",
      "   -- ------------------------------------- 9.4/150.0 MB 6.8 MB/s eta 0:00:21\n",
      "   -- ------------------------------------- 11.0/150.0 MB 7.0 MB/s eta 0:00:20\n",
      "   --- ------------------------------------ 12.1/150.0 MB 6.7 MB/s eta 0:00:21\n",
      "   --- ------------------------------------ 13.4/150.0 MB 6.5 MB/s eta 0:00:22\n",
      "   --- ------------------------------------ 14.4/150.0 MB 6.4 MB/s eta 0:00:22\n",
      "   ---- ----------------------------------- 15.7/150.0 MB 6.3 MB/s eta 0:00:22\n",
      "   ---- ----------------------------------- 16.8/150.0 MB 6.3 MB/s eta 0:00:22\n",
      "   ---- ----------------------------------- 18.1/150.0 MB 6.2 MB/s eta 0:00:22\n",
      "   ----- ---------------------------------- 19.1/150.0 MB 6.1 MB/s eta 0:00:22\n",
      "   ----- ---------------------------------- 21.0/150.0 MB 6.2 MB/s eta 0:00:21\n",
      "   ------ --------------------------------- 22.5/150.0 MB 6.3 MB/s eta 0:00:21\n",
      "   ------ --------------------------------- 23.3/150.0 MB 6.2 MB/s eta 0:00:21\n",
      "   ------ --------------------------------- 24.4/150.0 MB 6.2 MB/s eta 0:00:21\n",
      "   ------ --------------------------------- 26.2/150.0 MB 6.2 MB/s eta 0:00:20\n",
      "   ------- -------------------------------- 28.0/150.0 MB 6.3 MB/s eta 0:00:20\n",
      "   ------- -------------------------------- 29.4/150.0 MB 6.3 MB/s eta 0:00:20\n",
      "   -------- ------------------------------- 30.4/150.0 MB 6.2 MB/s eta 0:00:20\n",
      "   -------- ------------------------------- 32.0/150.0 MB 6.3 MB/s eta 0:00:19\n",
      "   -------- ------------------------------- 33.6/150.0 MB 6.3 MB/s eta 0:00:19\n",
      "   --------- ------------------------------ 35.1/150.0 MB 6.4 MB/s eta 0:00:18\n",
      "   --------- ------------------------------ 36.4/150.0 MB 6.4 MB/s eta 0:00:18\n",
      "   --------- ------------------------------ 37.2/150.0 MB 6.3 MB/s eta 0:00:18\n",
      "   ---------- ----------------------------- 38.5/150.0 MB 6.3 MB/s eta 0:00:18\n",
      "   ---------- ----------------------------- 40.1/150.0 MB 6.3 MB/s eta 0:00:18\n",
      "   ----------- ---------------------------- 41.7/150.0 MB 6.4 MB/s eta 0:00:17\n",
      "   ----------- ---------------------------- 42.7/150.0 MB 6.4 MB/s eta 0:00:17\n",
      "   ----------- ---------------------------- 44.6/150.0 MB 6.4 MB/s eta 0:00:17\n",
      "   ------------ --------------------------- 45.9/150.0 MB 6.4 MB/s eta 0:00:17\n",
      "   ------------ --------------------------- 47.2/150.0 MB 6.4 MB/s eta 0:00:17\n",
      "   ------------ --------------------------- 48.5/150.0 MB 6.4 MB/s eta 0:00:16\n",
      "   ------------- -------------------------- 49.8/150.0 MB 6.3 MB/s eta 0:00:16\n",
      "   ------------- -------------------------- 51.1/150.0 MB 6.4 MB/s eta 0:00:16\n",
      "   ------------- -------------------------- 52.2/150.0 MB 6.3 MB/s eta 0:00:16\n",
      "   -------------- ------------------------- 54.3/150.0 MB 6.4 MB/s eta 0:00:16\n",
      "   -------------- ------------------------- 55.6/150.0 MB 6.4 MB/s eta 0:00:15\n",
      "   --------------- ------------------------ 57.1/150.0 MB 6.4 MB/s eta 0:00:15\n",
      "   --------------- ------------------------ 59.0/150.0 MB 6.4 MB/s eta 0:00:15\n",
      "   ---------------- ----------------------- 60.8/150.0 MB 6.5 MB/s eta 0:00:14\n",
      "   ---------------- ----------------------- 62.4/150.0 MB 6.5 MB/s eta 0:00:14\n",
      "   ---------------- ----------------------- 63.4/150.0 MB 6.5 MB/s eta 0:00:14\n",
      "   ----------------- ---------------------- 65.3/150.0 MB 6.5 MB/s eta 0:00:14\n",
      "   ----------------- ---------------------- 67.1/150.0 MB 6.5 MB/s eta 0:00:13\n",
      "   ------------------ --------------------- 68.9/150.0 MB 6.6 MB/s eta 0:00:13\n",
      "   ------------------ --------------------- 70.3/150.0 MB 6.6 MB/s eta 0:00:13\n",
      "   ------------------- -------------------- 71.8/150.0 MB 6.6 MB/s eta 0:00:12\n",
      "   ------------------- -------------------- 73.7/150.0 MB 6.6 MB/s eta 0:00:12\n",
      "   -------------------- ------------------- 75.8/150.0 MB 6.7 MB/s eta 0:00:12\n",
      "   -------------------- ------------------- 77.3/150.0 MB 6.7 MB/s eta 0:00:11\n",
      "   --------------------- ------------------ 78.9/150.0 MB 6.7 MB/s eta 0:00:11\n",
      "   --------------------- ------------------ 80.7/150.0 MB 6.7 MB/s eta 0:00:11\n",
      "   ---------------------- ----------------- 82.8/150.0 MB 6.8 MB/s eta 0:00:10\n",
      "   ---------------------- ----------------- 84.1/150.0 MB 6.8 MB/s eta 0:00:10\n",
      "   ---------------------- ----------------- 85.5/150.0 MB 6.7 MB/s eta 0:00:10\n",
      "   ----------------------- ---------------- 86.8/150.0 MB 6.7 MB/s eta 0:00:10\n",
      "   ----------------------- ---------------- 88.3/150.0 MB 6.7 MB/s eta 0:00:10\n",
      "   ------------------------ --------------- 90.2/150.0 MB 6.8 MB/s eta 0:00:09\n",
      "   ------------------------ --------------- 92.0/150.0 MB 6.8 MB/s eta 0:00:09\n",
      "   ------------------------ --------------- 93.1/150.0 MB 6.7 MB/s eta 0:00:09\n",
      "   ------------------------- -------------- 94.6/150.0 MB 6.7 MB/s eta 0:00:09\n",
      "   ------------------------- -------------- 96.2/150.0 MB 6.8 MB/s eta 0:00:08\n",
      "   -------------------------- ------------- 98.3/150.0 MB 6.8 MB/s eta 0:00:08\n",
      "   -------------------------- ------------- 99.6/150.0 MB 6.8 MB/s eta 0:00:08\n",
      "   -------------------------- ------------- 101.2/150.0 MB 6.8 MB/s eta 0:00:08\n",
      "   --------------------------- ------------ 102.5/150.0 MB 6.8 MB/s eta 0:00:08\n",
      "   --------------------------- ------------ 104.3/150.0 MB 6.8 MB/s eta 0:00:07\n",
      "   ---------------------------- ----------- 106.2/150.0 MB 6.8 MB/s eta 0:00:07\n",
      "   ---------------------------- ----------- 107.2/150.0 MB 6.8 MB/s eta 0:00:07\n",
      "   ---------------------------- ----------- 108.5/150.0 MB 6.8 MB/s eta 0:00:07\n",
      "   ----------------------------- ---------- 110.1/150.0 MB 6.8 MB/s eta 0:00:06\n",
      "   ----------------------------- ---------- 111.7/150.0 MB 6.8 MB/s eta 0:00:06\n",
      "   ------------------------------ --------- 112.7/150.0 MB 6.8 MB/s eta 0:00:06\n",
      "   ------------------------------ --------- 114.0/150.0 MB 6.8 MB/s eta 0:00:06\n",
      "   ------------------------------ --------- 115.9/150.0 MB 6.8 MB/s eta 0:00:06\n",
      "   ------------------------------- -------- 117.7/150.0 MB 6.8 MB/s eta 0:00:05\n",
      "   ------------------------------- -------- 119.5/150.0 MB 6.8 MB/s eta 0:00:05\n",
      "   -------------------------------- ------- 120.6/150.0 MB 6.8 MB/s eta 0:00:05\n",
      "   -------------------------------- ------- 122.2/150.0 MB 6.8 MB/s eta 0:00:05\n",
      "   --------------------------------- ------ 123.7/150.0 MB 6.8 MB/s eta 0:00:04\n",
      "   --------------------------------- ------ 125.6/150.0 MB 6.8 MB/s eta 0:00:04\n",
      "   --------------------------------- ------ 127.1/150.0 MB 6.8 MB/s eta 0:00:04\n",
      "   ---------------------------------- ----- 128.2/150.0 MB 6.8 MB/s eta 0:00:04\n",
      "   ---------------------------------- ----- 130.0/150.0 MB 6.8 MB/s eta 0:00:03\n",
      "   ----------------------------------- ---- 131.6/150.0 MB 6.8 MB/s eta 0:00:03\n",
      "   ----------------------------------- ---- 133.4/150.0 MB 6.8 MB/s eta 0:00:03\n",
      "   ----------------------------------- ---- 134.7/150.0 MB 6.8 MB/s eta 0:00:03\n",
      "   ------------------------------------ --- 136.1/150.0 MB 6.8 MB/s eta 0:00:03\n",
      "   ------------------------------------ --- 137.1/150.0 MB 6.8 MB/s eta 0:00:02\n",
      "   ------------------------------------ --- 138.4/150.0 MB 6.8 MB/s eta 0:00:02\n",
      "   ------------------------------------- -- 139.2/150.0 MB 6.8 MB/s eta 0:00:02\n",
      "   ------------------------------------- -- 140.0/150.0 MB 6.7 MB/s eta 0:00:02\n",
      "   ------------------------------------- -- 141.3/150.0 MB 6.7 MB/s eta 0:00:02\n",
      "   -------------------------------------- - 142.9/150.0 MB 6.7 MB/s eta 0:00:02\n",
      "   -------------------------------------- - 144.7/150.0 MB 6.7 MB/s eta 0:00:01\n",
      "   -------------------------------------- - 145.2/150.0 MB 6.7 MB/s eta 0:00:01\n",
      "   ---------------------------------------  147.1/150.0 MB 6.7 MB/s eta 0:00:01\n",
      "   ---------------------------------------  148.4/150.0 MB 6.7 MB/s eta 0:00:01\n",
      "   ---------------------------------------  149.9/150.0 MB 6.7 MB/s eta 0:00:01\n",
      "   ---------------------------------------  149.9/150.0 MB 6.7 MB/s eta 0:00:01\n",
      "   ---------------------------------------  149.9/150.0 MB 6.7 MB/s eta 0:00:01\n",
      "   ---------------------------------------- 150.0/150.0 MB 6.5 MB/s eta 0:00:00\n",
      "Installing collected packages: xgboost\n",
      "Successfully installed xgboost-3.0.0\n"
     ]
    }
   ],
   "source": [
    "!pip install xgboost\n"
   ]
  },
  {
   "cell_type": "code",
   "execution_count": 7,
   "id": "8811fd9c-5d15-4a08-86e8-d41acf8f6dd4",
   "metadata": {},
   "outputs": [
    {
     "name": "stdout",
     "output_type": "stream",
     "text": [
      "Optimized Random Forest Accuracy: 82.67%\n",
      "XGBoost Accuracy: 81.33%\n"
     ]
    }
   ],
   "source": [
    "import pandas as pd\n",
    "from sklearn.model_selection import train_test_split\n",
    "from sklearn.preprocessing import LabelEncoder\n",
    "from sklearn.ensemble import RandomForestClassifier\n",
    "from sklearn.metrics import accuracy_score\n",
    "import xgboost as xgb\n",
    "from sklearn.model_selection import GridSearchCV\n",
    "from imblearn.over_sampling import SMOTE\n",
    "\n",
    "\n",
    "df = pd.read_csv(\"Disease_symptom_and_patient_profile_dataset.csv\")\n",
    "\n",
    "\n",
    "label_encoders = {}\n",
    "for column in df.columns:\n",
    "    if df[column].dtype == 'object':\n",
    "        le = LabelEncoder()\n",
    "        df[column] = le.fit_transform(df[column])\n",
    "        label_encoders[column] = le\n",
    "\n",
    "X = df.drop(columns=[\"Outcome Variable\"])\n",
    "y = df[\"Outcome Variable\"]\n",
    "\n",
    "smote = SMOTE(random_state=42)\n",
    "X_resampled, y_resampled = smote.fit_resample(X, y)\n",
    "\n",
    "X_train, X_test, y_train, y_test = train_test_split(X_resampled, y_resampled, test_size=0.2, random_state=42)\n",
    "\n",
    "\n",
    "rf_params = {\n",
    "    'n_estimators': [200, 300],\n",
    "    'max_depth': [10, 20],\n",
    "    'min_samples_split': [2, 5],\n",
    "    'min_samples_leaf': [1, 2]\n",
    "}\n",
    "grid_search = GridSearchCV(RandomForestClassifier(random_state=42), rf_params, cv=5, scoring='accuracy')\n",
    "grid_search.fit(X_train, y_train)\n",
    "\n",
    "\n",
    "best_rf = grid_search.best_estimator_\n",
    "\n",
    "xgb_model = xgb.XGBClassifier(n_estimators=300, max_depth=10, learning_rate=0.05, random_state=42)\n",
    "xgb_model.fit(X_train, y_train)\n",
    "\n",
    "\n",
    "y_pred_rf = best_rf.predict(X_test)\n",
    "y_pred_xgb = xgb_model.predict(X_test)\n",
    "\n",
    "\n",
    "accuracy_rf = accuracy_score(y_test, y_pred_rf)\n",
    "accuracy_xgb = accuracy_score(y_test, y_pred_xgb)\n",
    "\n",
    "print(f\"Optimized Random Forest Accuracy: {accuracy_rf * 100:.2f}%\")\n",
    "print(f\"XGBoost Accuracy: {accuracy_xgb * 100:.2f}%\")"
   ]
  },
  {
   "cell_type": "code",
   "execution_count": 7,
   "id": "41f7801e-1617-4cea-b4ad-0c52bc427f26",
   "metadata": {
    "scrolled": true
   },
   "outputs": [
    {
     "name": "stdout",
     "output_type": "stream",
     "text": [
      "\n",
      "🔍 Enter patient details to predict disease:\n",
      "\n",
      "Fever options: ['Yes', 'No']\n"
     ]
    },
    {
     "name": "stdout",
     "output_type": "stream",
     "text": [
      "Enter Fever:  Yes\n"
     ]
    },
    {
     "name": "stdout",
     "output_type": "stream",
     "text": [
      "\n",
      "Cough options: ['Yes', 'No']\n"
     ]
    },
    {
     "name": "stdout",
     "output_type": "stream",
     "text": [
      "Enter Cough:  No\n"
     ]
    },
    {
     "name": "stdout",
     "output_type": "stream",
     "text": [
      "\n",
      "Fatigue options: ['Yes', 'No']\n"
     ]
    },
    {
     "name": "stdout",
     "output_type": "stream",
     "text": [
      "Enter Fatigue:  Yes\n"
     ]
    },
    {
     "name": "stdout",
     "output_type": "stream",
     "text": [
      "\n",
      "Difficulty Breathing options: ['Yes', 'No']\n"
     ]
    },
    {
     "name": "stdout",
     "output_type": "stream",
     "text": [
      "Enter Difficulty Breathing:  Yes\n"
     ]
    },
    {
     "name": "stdout",
     "output_type": "stream",
     "text": [
      "\n",
      "Gender options: ['Male', 'Female']\n"
     ]
    },
    {
     "name": "stdout",
     "output_type": "stream",
     "text": [
      "Enter Gender:  Male\n"
     ]
    },
    {
     "name": "stdout",
     "output_type": "stream",
     "text": [
      "\n",
      "Blood Pressure options: ['Low', 'Normal', 'High']\n"
     ]
    },
    {
     "name": "stdout",
     "output_type": "stream",
     "text": [
      "Enter Blood Pressure:  High\n"
     ]
    },
    {
     "name": "stdout",
     "output_type": "stream",
     "text": [
      "\n",
      "Cholesterol Level options: ['Low', 'Normal', 'High']\n"
     ]
    },
    {
     "name": "stdout",
     "output_type": "stream",
     "text": [
      "Enter Cholesterol Level:  Normal\n",
      "\n",
      "Enter Age:  30\n"
     ]
    },
    {
     "ename": "ValueError",
     "evalue": "The feature names should match those that were passed during fit.\nFeature names must be in the same order as they were in fit.\n",
     "output_type": "error",
     "traceback": [
      "\u001b[1;31m---------------------------------------------------------------------------\u001b[0m",
      "\u001b[1;31mValueError\u001b[0m                                Traceback (most recent call last)",
      "Cell \u001b[1;32mIn[7], line 67\u001b[0m\n\u001b[0;32m     64\u001b[0m         input_df[col] \u001b[38;5;241m=\u001b[39m label_encoders[col]\u001b[38;5;241m.\u001b[39mtransform(input_df[col])\n\u001b[0;32m     66\u001b[0m \u001b[38;5;66;03m# Predict Disease\u001b[39;00m\n\u001b[1;32m---> 67\u001b[0m prediction \u001b[38;5;241m=\u001b[39m model\u001b[38;5;241m.\u001b[39mpredict(input_df)\n\u001b[0;32m     68\u001b[0m predicted_disease \u001b[38;5;241m=\u001b[39m label_encoders[\u001b[38;5;124m'\u001b[39m\u001b[38;5;124mDisease\u001b[39m\u001b[38;5;124m'\u001b[39m]\u001b[38;5;241m.\u001b[39minverse_transform(prediction)\n\u001b[0;32m     70\u001b[0m \u001b[38;5;28mprint\u001b[39m(\u001b[38;5;124mf\u001b[39m\u001b[38;5;124m\"\u001b[39m\u001b[38;5;130;01m\\n\u001b[39;00m\u001b[38;5;124m🩺 Predicted Disease: \u001b[39m\u001b[38;5;132;01m{\u001b[39;00mpredicted_disease[\u001b[38;5;241m0\u001b[39m]\u001b[38;5;132;01m}\u001b[39;00m\u001b[38;5;124m\"\u001b[39m)\n",
      "File \u001b[1;32m~\\anaconda3\\Lib\\site-packages\\sklearn\\ensemble\\_forest.py:904\u001b[0m, in \u001b[0;36mForestClassifier.predict\u001b[1;34m(self, X)\u001b[0m\n\u001b[0;32m    883\u001b[0m \u001b[38;5;28;01mdef\u001b[39;00m \u001b[38;5;21mpredict\u001b[39m(\u001b[38;5;28mself\u001b[39m, X):\n\u001b[0;32m    884\u001b[0m \u001b[38;5;250m    \u001b[39m\u001b[38;5;124;03m\"\"\"\u001b[39;00m\n\u001b[0;32m    885\u001b[0m \u001b[38;5;124;03m    Predict class for X.\u001b[39;00m\n\u001b[0;32m    886\u001b[0m \n\u001b[1;32m   (...)\u001b[0m\n\u001b[0;32m    902\u001b[0m \u001b[38;5;124;03m        The predicted classes.\u001b[39;00m\n\u001b[0;32m    903\u001b[0m \u001b[38;5;124;03m    \"\"\"\u001b[39;00m\n\u001b[1;32m--> 904\u001b[0m     proba \u001b[38;5;241m=\u001b[39m \u001b[38;5;28mself\u001b[39m\u001b[38;5;241m.\u001b[39mpredict_proba(X)\n\u001b[0;32m    906\u001b[0m     \u001b[38;5;28;01mif\u001b[39;00m \u001b[38;5;28mself\u001b[39m\u001b[38;5;241m.\u001b[39mn_outputs_ \u001b[38;5;241m==\u001b[39m \u001b[38;5;241m1\u001b[39m:\n\u001b[0;32m    907\u001b[0m         \u001b[38;5;28;01mreturn\u001b[39;00m \u001b[38;5;28mself\u001b[39m\u001b[38;5;241m.\u001b[39mclasses_\u001b[38;5;241m.\u001b[39mtake(np\u001b[38;5;241m.\u001b[39margmax(proba, axis\u001b[38;5;241m=\u001b[39m\u001b[38;5;241m1\u001b[39m), axis\u001b[38;5;241m=\u001b[39m\u001b[38;5;241m0\u001b[39m)\n",
      "File \u001b[1;32m~\\anaconda3\\Lib\\site-packages\\sklearn\\ensemble\\_forest.py:946\u001b[0m, in \u001b[0;36mForestClassifier.predict_proba\u001b[1;34m(self, X)\u001b[0m\n\u001b[0;32m    944\u001b[0m check_is_fitted(\u001b[38;5;28mself\u001b[39m)\n\u001b[0;32m    945\u001b[0m \u001b[38;5;66;03m# Check data\u001b[39;00m\n\u001b[1;32m--> 946\u001b[0m X \u001b[38;5;241m=\u001b[39m \u001b[38;5;28mself\u001b[39m\u001b[38;5;241m.\u001b[39m_validate_X_predict(X)\n\u001b[0;32m    948\u001b[0m \u001b[38;5;66;03m# Assign chunk of trees to jobs\u001b[39;00m\n\u001b[0;32m    949\u001b[0m n_jobs, _, _ \u001b[38;5;241m=\u001b[39m _partition_estimators(\u001b[38;5;28mself\u001b[39m\u001b[38;5;241m.\u001b[39mn_estimators, \u001b[38;5;28mself\u001b[39m\u001b[38;5;241m.\u001b[39mn_jobs)\n",
      "File \u001b[1;32m~\\anaconda3\\Lib\\site-packages\\sklearn\\ensemble\\_forest.py:641\u001b[0m, in \u001b[0;36mBaseForest._validate_X_predict\u001b[1;34m(self, X)\u001b[0m\n\u001b[0;32m    638\u001b[0m \u001b[38;5;28;01melse\u001b[39;00m:\n\u001b[0;32m    639\u001b[0m     force_all_finite \u001b[38;5;241m=\u001b[39m \u001b[38;5;28;01mTrue\u001b[39;00m\n\u001b[1;32m--> 641\u001b[0m X \u001b[38;5;241m=\u001b[39m \u001b[38;5;28mself\u001b[39m\u001b[38;5;241m.\u001b[39m_validate_data(\n\u001b[0;32m    642\u001b[0m     X,\n\u001b[0;32m    643\u001b[0m     dtype\u001b[38;5;241m=\u001b[39mDTYPE,\n\u001b[0;32m    644\u001b[0m     accept_sparse\u001b[38;5;241m=\u001b[39m\u001b[38;5;124m\"\u001b[39m\u001b[38;5;124mcsr\u001b[39m\u001b[38;5;124m\"\u001b[39m,\n\u001b[0;32m    645\u001b[0m     reset\u001b[38;5;241m=\u001b[39m\u001b[38;5;28;01mFalse\u001b[39;00m,\n\u001b[0;32m    646\u001b[0m     force_all_finite\u001b[38;5;241m=\u001b[39mforce_all_finite,\n\u001b[0;32m    647\u001b[0m )\n\u001b[0;32m    648\u001b[0m \u001b[38;5;28;01mif\u001b[39;00m issparse(X) \u001b[38;5;129;01mand\u001b[39;00m (X\u001b[38;5;241m.\u001b[39mindices\u001b[38;5;241m.\u001b[39mdtype \u001b[38;5;241m!=\u001b[39m np\u001b[38;5;241m.\u001b[39mintc \u001b[38;5;129;01mor\u001b[39;00m X\u001b[38;5;241m.\u001b[39mindptr\u001b[38;5;241m.\u001b[39mdtype \u001b[38;5;241m!=\u001b[39m np\u001b[38;5;241m.\u001b[39mintc):\n\u001b[0;32m    649\u001b[0m     \u001b[38;5;28;01mraise\u001b[39;00m \u001b[38;5;167;01mValueError\u001b[39;00m(\u001b[38;5;124m\"\u001b[39m\u001b[38;5;124mNo support for np.int64 index based sparse matrices\u001b[39m\u001b[38;5;124m\"\u001b[39m)\n",
      "File \u001b[1;32m~\\anaconda3\\Lib\\site-packages\\sklearn\\base.py:608\u001b[0m, in \u001b[0;36mBaseEstimator._validate_data\u001b[1;34m(self, X, y, reset, validate_separately, cast_to_ndarray, **check_params)\u001b[0m\n\u001b[0;32m    537\u001b[0m \u001b[38;5;28;01mdef\u001b[39;00m \u001b[38;5;21m_validate_data\u001b[39m(\n\u001b[0;32m    538\u001b[0m     \u001b[38;5;28mself\u001b[39m,\n\u001b[0;32m    539\u001b[0m     X\u001b[38;5;241m=\u001b[39m\u001b[38;5;124m\"\u001b[39m\u001b[38;5;124mno_validation\u001b[39m\u001b[38;5;124m\"\u001b[39m,\n\u001b[1;32m   (...)\u001b[0m\n\u001b[0;32m    544\u001b[0m     \u001b[38;5;241m*\u001b[39m\u001b[38;5;241m*\u001b[39mcheck_params,\n\u001b[0;32m    545\u001b[0m ):\n\u001b[0;32m    546\u001b[0m \u001b[38;5;250m    \u001b[39m\u001b[38;5;124;03m\"\"\"Validate input data and set or check the `n_features_in_` attribute.\u001b[39;00m\n\u001b[0;32m    547\u001b[0m \n\u001b[0;32m    548\u001b[0m \u001b[38;5;124;03m    Parameters\u001b[39;00m\n\u001b[1;32m   (...)\u001b[0m\n\u001b[0;32m    606\u001b[0m \u001b[38;5;124;03m        validated.\u001b[39;00m\n\u001b[0;32m    607\u001b[0m \u001b[38;5;124;03m    \"\"\"\u001b[39;00m\n\u001b[1;32m--> 608\u001b[0m     \u001b[38;5;28mself\u001b[39m\u001b[38;5;241m.\u001b[39m_check_feature_names(X, reset\u001b[38;5;241m=\u001b[39mreset)\n\u001b[0;32m    610\u001b[0m     \u001b[38;5;28;01mif\u001b[39;00m y \u001b[38;5;129;01mis\u001b[39;00m \u001b[38;5;28;01mNone\u001b[39;00m \u001b[38;5;129;01mand\u001b[39;00m \u001b[38;5;28mself\u001b[39m\u001b[38;5;241m.\u001b[39m_get_tags()[\u001b[38;5;124m\"\u001b[39m\u001b[38;5;124mrequires_y\u001b[39m\u001b[38;5;124m\"\u001b[39m]:\n\u001b[0;32m    611\u001b[0m         \u001b[38;5;28;01mraise\u001b[39;00m \u001b[38;5;167;01mValueError\u001b[39;00m(\n\u001b[0;32m    612\u001b[0m             \u001b[38;5;124mf\u001b[39m\u001b[38;5;124m\"\u001b[39m\u001b[38;5;124mThis \u001b[39m\u001b[38;5;132;01m{\u001b[39;00m\u001b[38;5;28mself\u001b[39m\u001b[38;5;241m.\u001b[39m\u001b[38;5;18m__class__\u001b[39m\u001b[38;5;241m.\u001b[39m\u001b[38;5;18m__name__\u001b[39m\u001b[38;5;132;01m}\u001b[39;00m\u001b[38;5;124m estimator \u001b[39m\u001b[38;5;124m\"\u001b[39m\n\u001b[0;32m    613\u001b[0m             \u001b[38;5;124m\"\u001b[39m\u001b[38;5;124mrequires y to be passed, but the target y is None.\u001b[39m\u001b[38;5;124m\"\u001b[39m\n\u001b[0;32m    614\u001b[0m         )\n",
      "File \u001b[1;32m~\\anaconda3\\Lib\\site-packages\\sklearn\\base.py:535\u001b[0m, in \u001b[0;36mBaseEstimator._check_feature_names\u001b[1;34m(self, X, reset)\u001b[0m\n\u001b[0;32m    530\u001b[0m \u001b[38;5;28;01mif\u001b[39;00m \u001b[38;5;129;01mnot\u001b[39;00m missing_names \u001b[38;5;129;01mand\u001b[39;00m \u001b[38;5;129;01mnot\u001b[39;00m unexpected_names:\n\u001b[0;32m    531\u001b[0m     message \u001b[38;5;241m+\u001b[39m\u001b[38;5;241m=\u001b[39m (\n\u001b[0;32m    532\u001b[0m         \u001b[38;5;124m\"\u001b[39m\u001b[38;5;124mFeature names must be in the same order as they were in fit.\u001b[39m\u001b[38;5;130;01m\\n\u001b[39;00m\u001b[38;5;124m\"\u001b[39m\n\u001b[0;32m    533\u001b[0m     )\n\u001b[1;32m--> 535\u001b[0m \u001b[38;5;28;01mraise\u001b[39;00m \u001b[38;5;167;01mValueError\u001b[39;00m(message)\n",
      "\u001b[1;31mValueError\u001b[0m: The feature names should match those that were passed during fit.\nFeature names must be in the same order as they were in fit.\n"
     ]
    }
   ],
   "source": [
    "import pandas as pd\n",
    "from sklearn.preprocessing import LabelEncoder\n",
    "from sklearn.ensemble import RandomForestClassifier\n",
    "\n",
    "df = pd.read_csv(\"Disease_symptom_and_patient_profile_dataset.csv\").dropna()\n",
    "\n",
    "\n",
    "label_encoders = {}\n",
    "for column in df.columns:\n",
    "    if df[column].dtype == 'object':\n",
    "        le = LabelEncoder()\n",
    "        df[column] = le.fit_transform(df[column])\n",
    "        label_encoders[column] = le\n",
    "\n",
    "\n",
    "feature_columns = [\n",
    "    'Fever', 'Cough', 'Fatigue', 'Difficulty Breathing',\n",
    "    'Age', 'Gender', 'Blood Pressure', 'Cholesterol Level'\n",
    "]\n",
    "\n",
    "X = df[feature_columns]\n",
    "y = df[\"Disease\"]\n",
    "\n",
    "model = RandomForestClassifier(n_estimators=100, random_state=42)\n",
    "model.fit(X, y)\n",
    "\n",
    "\n",
    "options = {\n",
    "    'Fever': ['Yes', 'No'],\n",
    "    'Cough': ['Yes', 'No'],\n",
    "    'Fatigue': ['Yes', 'No'],\n",
    "    'Difficulty Breathing': ['Yes', 'No'],\n",
    "    'Gender': ['Male', 'Female'],\n",
    "    'Blood Pressure': ['Low', 'Normal', 'High'],\n",
    "    'Cholesterol Level': ['Low', 'Normal', 'High']\n",
    "}\n",
    "\n",
    "\n",
    "print(\"\\n🔍 Enter patient details to predict disease:\")\n",
    "manual_input = {}\n",
    "\n",
    "for key, choices in options.items():\n",
    "    print(f\"\\n{key} options: {choices}\")\n",
    "    value = input(f\"Enter {key}: \").strip().title()\n",
    "    while value not in choices:\n",
    "        print(f\"Invalid input. Please choose from {choices}\")\n",
    "        value = input(f\"Enter {key}: \").strip().title()\n",
    "    manual_input[key] = value\n",
    "\n",
    "while True:\n",
    "    try:\n",
    "        manual_input[\"Age\"] = int(input(\"\\nEnter Age: \"))\n",
    "        break\n",
    "    except ValueError:\n",
    "        print(\"Please enter a valid number.\")\n",
    "\n",
    "input_df = pd.DataFrame([manual_input])\n",
    "for col in input_df.columns:\n",
    "    if col in label_encoders:\n",
    "        input_df[col] = label_encoders[col].transform(input_df[col])\n",
    "\n",
    "prediction = model.predict(input_df)\n",
    "predicted_disease = label_encoders['Disease'].inverse_transform(prediction)\n",
    "\n",
    "print(f\"\\n🩺 Predicted Disease: {predicted_disease[0]}\")\n"
   ]
  },
  {
   "cell_type": "code",
   "execution_count": null,
   "id": "f90531c5-9f34-4159-96ba-e0bf08cdcaa8",
   "metadata": {},
   "outputs": [],
   "source": []
  }
 ],
 "metadata": {
  "kernelspec": {
   "display_name": "base",
   "language": "python",
   "name": "python3"
  },
  "language_info": {
   "codemirror_mode": {
    "name": "ipython",
    "version": 3
   },
   "file_extension": ".py",
   "mimetype": "text/x-python",
   "name": "python",
   "nbconvert_exporter": "python",
   "pygments_lexer": "ipython3",
   "version": "3.12.7"
  }
 },
 "nbformat": 4,
 "nbformat_minor": 5
}
